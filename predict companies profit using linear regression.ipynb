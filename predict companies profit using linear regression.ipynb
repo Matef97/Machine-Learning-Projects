{
 "cells": [
  {
   "cell_type": "code",
   "execution_count": 79,
   "id": "22c06545",
   "metadata": {},
   "outputs": [],
   "source": [
    "import numpy as np\n",
    "import pandas as pd\n",
    "import matplotlib.pyplot  as plt\n",
    "import seaborn as sns\n",
    "%matplotlib inline"
   ]
  },
  {
   "cell_type": "code",
   "execution_count": 80,
   "id": "d2925be6",
   "metadata": {},
   "outputs": [
    {
     "data": {
      "text/html": [
       "<div>\n",
       "<style scoped>\n",
       "    .dataframe tbody tr th:only-of-type {\n",
       "        vertical-align: middle;\n",
       "    }\n",
       "\n",
       "    .dataframe tbody tr th {\n",
       "        vertical-align: top;\n",
       "    }\n",
       "\n",
       "    .dataframe thead th {\n",
       "        text-align: right;\n",
       "    }\n",
       "</style>\n",
       "<table border=\"1\" class=\"dataframe\">\n",
       "  <thead>\n",
       "    <tr style=\"text-align: right;\">\n",
       "      <th></th>\n",
       "      <th>R&amp;D Spend</th>\n",
       "      <th>Administration</th>\n",
       "      <th>Marketing Spend</th>\n",
       "      <th>State</th>\n",
       "      <th>Profit</th>\n",
       "    </tr>\n",
       "  </thead>\n",
       "  <tbody>\n",
       "    <tr>\n",
       "      <th>0</th>\n",
       "      <td>165349.20</td>\n",
       "      <td>136897.80</td>\n",
       "      <td>471784.10</td>\n",
       "      <td>New York</td>\n",
       "      <td>192261.83</td>\n",
       "    </tr>\n",
       "    <tr>\n",
       "      <th>1</th>\n",
       "      <td>162597.70</td>\n",
       "      <td>151377.59</td>\n",
       "      <td>443898.53</td>\n",
       "      <td>California</td>\n",
       "      <td>191792.06</td>\n",
       "    </tr>\n",
       "    <tr>\n",
       "      <th>2</th>\n",
       "      <td>153441.51</td>\n",
       "      <td>101145.55</td>\n",
       "      <td>407934.54</td>\n",
       "      <td>Florida</td>\n",
       "      <td>191050.39</td>\n",
       "    </tr>\n",
       "    <tr>\n",
       "      <th>3</th>\n",
       "      <td>144372.41</td>\n",
       "      <td>118671.85</td>\n",
       "      <td>383199.62</td>\n",
       "      <td>New York</td>\n",
       "      <td>182901.99</td>\n",
       "    </tr>\n",
       "    <tr>\n",
       "      <th>4</th>\n",
       "      <td>142107.34</td>\n",
       "      <td>91391.77</td>\n",
       "      <td>366168.42</td>\n",
       "      <td>Florida</td>\n",
       "      <td>166187.94</td>\n",
       "    </tr>\n",
       "  </tbody>\n",
       "</table>\n",
       "</div>"
      ],
      "text/plain": [
       "   R&D Spend  Administration  Marketing Spend       State     Profit\n",
       "0  165349.20       136897.80        471784.10    New York  192261.83\n",
       "1  162597.70       151377.59        443898.53  California  191792.06\n",
       "2  153441.51       101145.55        407934.54     Florida  191050.39\n",
       "3  144372.41       118671.85        383199.62    New York  182901.99\n",
       "4  142107.34        91391.77        366168.42     Florida  166187.94"
      ]
     },
     "execution_count": 80,
     "metadata": {},
     "output_type": "execute_result"
    }
   ],
   "source": [
    "df = pd.read_csv('1000_Companies.csv')\n",
    "df.head()"
   ]
  },
  {
   "cell_type": "code",
   "execution_count": 81,
   "id": "7a611627",
   "metadata": {},
   "outputs": [
    {
     "data": {
      "text/plain": [
       "array([[165349.2, 136897.8, 471784.1, 'New York'],\n",
       "       [162597.7, 151377.59, 443898.53, 'California'],\n",
       "       [153441.51, 101145.55, 407934.54, 'Florida'],\n",
       "       ...,\n",
       "       [100275.47, 241926.31, 227142.82, 'California'],\n",
       "       [128456.23, 321652.14, 281692.32, 'California'],\n",
       "       [161181.72, 270939.86, 295442.17, 'New York']], dtype=object)"
      ]
     },
     "execution_count": 81,
     "metadata": {},
     "output_type": "execute_result"
    }
   ],
   "source": [
    "# split the data into features and labels\n",
    "X = df.iloc[:,:-1].values\n",
    "y = df.iloc[:,-1].values\n",
    "X\n"
   ]
  },
  {
   "cell_type": "code",
   "execution_count": 82,
   "id": "79d71bc3",
   "metadata": {},
   "outputs": [
    {
     "data": {
      "text/html": [
       "<div>\n",
       "<style scoped>\n",
       "    .dataframe tbody tr th:only-of-type {\n",
       "        vertical-align: middle;\n",
       "    }\n",
       "\n",
       "    .dataframe tbody tr th {\n",
       "        vertical-align: top;\n",
       "    }\n",
       "\n",
       "    .dataframe thead th {\n",
       "        text-align: right;\n",
       "    }\n",
       "</style>\n",
       "<table border=\"1\" class=\"dataframe\">\n",
       "  <thead>\n",
       "    <tr style=\"text-align: right;\">\n",
       "      <th></th>\n",
       "      <th>R&amp;D Spend</th>\n",
       "      <th>Administration</th>\n",
       "      <th>Marketing Spend</th>\n",
       "      <th>Profit</th>\n",
       "    </tr>\n",
       "  </thead>\n",
       "  <tbody>\n",
       "    <tr>\n",
       "      <th>R&amp;D Spend</th>\n",
       "      <td>1.000000</td>\n",
       "      <td>0.582434</td>\n",
       "      <td>0.978407</td>\n",
       "      <td>0.945245</td>\n",
       "    </tr>\n",
       "    <tr>\n",
       "      <th>Administration</th>\n",
       "      <td>0.582434</td>\n",
       "      <td>1.000000</td>\n",
       "      <td>0.520465</td>\n",
       "      <td>0.741560</td>\n",
       "    </tr>\n",
       "    <tr>\n",
       "      <th>Marketing Spend</th>\n",
       "      <td>0.978407</td>\n",
       "      <td>0.520465</td>\n",
       "      <td>1.000000</td>\n",
       "      <td>0.917270</td>\n",
       "    </tr>\n",
       "    <tr>\n",
       "      <th>Profit</th>\n",
       "      <td>0.945245</td>\n",
       "      <td>0.741560</td>\n",
       "      <td>0.917270</td>\n",
       "      <td>1.000000</td>\n",
       "    </tr>\n",
       "  </tbody>\n",
       "</table>\n",
       "</div>"
      ],
      "text/plain": [
       "                 R&D Spend  Administration  Marketing Spend    Profit\n",
       "R&D Spend         1.000000        0.582434         0.978407  0.945245\n",
       "Administration    0.582434        1.000000         0.520465  0.741560\n",
       "Marketing Spend   0.978407        0.520465         1.000000  0.917270\n",
       "Profit            0.945245        0.741560         0.917270  1.000000"
      ]
     },
     "execution_count": 82,
     "metadata": {},
     "output_type": "execute_result"
    }
   ],
   "source": [
    "#visualize the correlation between features\n",
    "corr = df.corr()\n",
    "corr"
   ]
  },
  {
   "cell_type": "code",
   "execution_count": 83,
   "id": "4075356b",
   "metadata": {},
   "outputs": [
    {
     "data": {
      "text/plain": [
       "<AxesSubplot:>"
      ]
     },
     "execution_count": 83,
     "metadata": {},
     "output_type": "execute_result"
    },
    {
     "data": {
      "image/png": "[encoded data removed]",
      "text/plain": [
       "<Figure size 640x480 with 2 Axes>"
      ]
     },
     "metadata": {},
     "output_type": "display_data"
    }
   ],
   "source": [
    "sns.heatmap(corr,annot =True)"
   ]
  },
  {
   "cell_type": "markdown",
   "id": "301dec27",
   "metadata": {},
   "source": [
    "### LabelEncoder converts each class under specified feature to a numerical value.\n",
    "### But if the categorical feature is multi class, LabelEncoder will return different values for different classes\n",
    "### In this case, using LabelEncoder only is not a good choice, since it brings in a natural ordering for different classes.\n",
    "### We need to specify categorical feature using its mask inside OneHotEncoder. The sparse=False argument outputs a non-sparse matrix.\n",
    "### ColumnTransformer :This estimator allows different columns or column subsets of the input to be transformed separately and the features generated by each transformer will be concatenated to form a single feature space.\n",
    "### transformerslist of tuples\n",
    "\n",
    "    List of (name, transformer, columns) tuples specifying the transformer objects to be applied to subsets of the data."
   ]
  },
  {
   "cell_type": "code",
   "execution_count": 84,
   "id": "0ca81b94",
   "metadata": {},
   "outputs": [
    {
     "data": {
      "text/plain": [
       "array([[0.0, 1.0, 165349.2, 136897.8, 471784.1],\n",
       "       [0.0, 0.0, 162597.7, 151377.59, 443898.53],\n",
       "       [1.0, 0.0, 153441.51, 101145.55, 407934.54],\n",
       "       ...,\n",
       "       [0.0, 0.0, 100275.47, 241926.31, 227142.82],\n",
       "       [0.0, 0.0, 128456.23, 321652.14, 281692.32],\n",
       "       [0.0, 1.0, 161181.72, 270939.86, 295442.17]], dtype=object)"
      ]
     },
     "execution_count": 84,
     "metadata": {},
     "output_type": "execute_result"
    }
   ],
   "source": [
    "# encoding categorical data\n",
    "# LabelEncoder converts each class under specified feature to a numerical value.\n",
    "from sklearn.preprocessing import LabelEncoder,OneHotEncoder\n",
    "from sklearn.compose import ColumnTransformer\n",
    "label_encoder = LabelEncoder()\n",
    "X[:,3] = label_encoder.fit_transform(X[:,3])\n",
    "\n",
    "ct = ColumnTransformer([(\"State\", OneHotEncoder(), [3])], remainder = 'passthrough')\n",
    "X = ct.fit_transform(X)\n",
    "#avoiding the dummy variable trap\n",
    "X = X[:, 1:]\n",
    "X\n",
    "\n",
    "\n",
    "\n"
   ]
  },
  {
   "cell_type": "code",
   "execution_count": 86,
   "id": "064c918b",
   "metadata": {},
   "outputs": [],
   "source": [
    "#splitting the data into training and testing\n",
    "from sklearn.model_selection import train_test_split\n",
    "X_train,X_test,y_train,y_test = train_test_split(X,y,test_size =0.2,random_state=0)"
   ]
  },
  {
   "cell_type": "code",
   "execution_count": 87,
   "id": "aca7dac8",
   "metadata": {},
   "outputs": [
    {
     "data": {
      "text/plain": [
       "LinearRegression()"
      ]
     },
     "execution_count": 87,
     "metadata": {},
     "output_type": "execute_result"
    }
   ],
   "source": [
    "#fitting linear regression model to our data\n",
    "from sklearn.linear_model import LinearRegression\n",
    "model = LinearRegression()\n",
    "model.fit(X_train,y_train)\n",
    "\n"
   ]
  },
  {
   "cell_type": "code",
   "execution_count": 88,
   "id": "1be4e62d",
   "metadata": {},
   "outputs": [
    {
     "data": {
      "text/plain": [
       "array([ 89790.61532915,  88427.0718736 ,  94894.67836971, 175680.86725612,\n",
       "        83411.73042088, 110571.90200074, 132145.2293644 ,  91473.37719686,\n",
       "       164597.05380607,  53222.82667399,  66950.19050988, 150566.43987005,\n",
       "       126915.20858596,  59337.85971049, 177513.91053063,  75316.2814305 ,\n",
       "       118248.14406603, 164574.40699903, 170937.2898107 , 182069.11645086,\n",
       "       118845.03252688,  85669.95112228, 180992.59396145,  84145.08220144,\n",
       "       105005.83769214, 101233.56772746,  53831.07669089,  56881.41475223,\n",
       "        68896.39346904, 210040.00765885, 120778.72270894, 111724.87157654,\n",
       "       101487.90541517, 137959.02649624,  63969.95996742, 108857.91214126,\n",
       "       186014.72531989, 171442.64130748, 174644.26529206, 117671.49128195,\n",
       "        96731.37857433, 165452.2577941 , 107724.34331255,  50194.54176912,\n",
       "       116513.89532179,  58632.48986819, 158416.46827611,  78541.48521609,\n",
       "       159727.66671744, 131137.87699644, 184880.70924518, 174609.08266881,\n",
       "        93745.66352058,  78341.13383417, 180745.90439081,  84461.61490551,\n",
       "       142900.90602903, 170618.44098398,  84365.09530838, 105307.3716218 ,\n",
       "       141660.07290787,  52527.3434044 , 141842.96264161, 139176.27973195,\n",
       "        98294.52669666, 113586.86790969, 126754.21895489, 152135.51985562,\n",
       "        58864.51658954, 174285.57361131, 124624.04380784, 169065.77658979,\n",
       "        91279.33198209, 156170.37268963,  84307.26579365,  77877.75223096,\n",
       "       120414.02421346,  93380.44273241, 139020.62514121, 143604.67103573,\n",
       "       171148.30815369, 140082.97050132, 106369.71689747, 155641.43851388,\n",
       "       140030.10330037, 110172.87893524,  69672.98677563,  88148.52068041,\n",
       "       140133.59925094, 148479.09537888, 157916.63505258,  58532.9486314 ,\n",
       "        93707.38422389, 112646.37475705,  56556.18943659, 107414.89996181,\n",
       "       147352.80227753, 152144.10104035, 167808.11701785, 118750.25230713,\n",
       "       120763.27666701, 139029.95295663, 157527.9093412 , 121962.0621496 ,\n",
       "        87091.32399736, 104792.91384333,  95335.22679185, 178389.52287437,\n",
       "       181942.63776383, 109831.34945506, 165254.03344097, 167806.06491904,\n",
       "       158002.44642544, 174782.86900957, 170196.771027  ,  52302.1816161 ,\n",
       "       176938.11595791, 104751.83583865,  82710.31528805, 138890.52767844,\n",
       "       144274.74675425, 161679.01836441, 169662.05445896, 120450.9231013 ,\n",
       "       158880.70799547, 110213.73252824, 169674.51532367,  60760.6130084 ,\n",
       "       159036.99629069, 158169.44286049, 174511.70494476, 156294.79927785,\n",
       "       103714.37583211,  85635.96237573, 141603.54878758, 165917.69156981,\n",
       "       121182.03641977, 170751.87883894, 100505.77549411,  82097.51033127,\n",
       "       178643.18879844, 101790.48384578,  70507.40958621,  90250.04230088,\n",
       "        61247.49962678,  68912.17534519,  72775.81613474, 176914.08873126,\n",
       "        89704.69244931, 129209.43730015,  92672.90938382,  88133.59175043,\n",
       "       172836.3302162 ,  60893.62070013, 169015.89446011, 166450.24453205,\n",
       "       165425.54476416, 102170.5169499 , 181594.57928218,  73702.5794256 ,\n",
       "        91267.42979668, 135791.54160196,  64922.80257299,  71775.70235725,\n",
       "        60603.91401514, 184288.61041917, 176286.69585946, 158907.7568704 ,\n",
       "       141359.32216439, 154611.17928322,  58549.58863232,  90618.58407898,\n",
       "       152885.51163926, 168398.05223806,  72485.36274538, 116064.24350667,\n",
       "        80087.80697207, 149828.90896189, 116806.9595737 , 130191.48845161,\n",
       "       174534.4267033 , 293584.45948283, 146270.83174789, 150646.69178015,\n",
       "        86107.47782246,  69967.20842245,  70096.78368772,  69033.69170768,\n",
       "       120666.75708064,  89677.68014063, 166824.27091664, 125514.76626409,\n",
       "        67209.67687465, 140930.69427703, 118544.30490695, 165897.61905907,\n",
       "       168655.48652553, 147009.66805049, 141396.22104147, 109086.50634849])"
      ]
     },
     "execution_count": 88,
     "metadata": {},
     "output_type": "execute_result"
    }
   ],
   "source": [
    "#predict the result\n",
    "y_pred = model.predict(X_test)\n",
    "y_pred"
   ]
  },
  {
   "cell_type": "code",
   "execution_count": 91,
   "id": "979aa60b",
   "metadata": {},
   "outputs": [
    {
     "data": {
      "text/plain": [
       "array([-8.80536598e+02, -6.98169073e+02,  5.25845857e-01,  8.44390881e-01,\n",
       "        1.07574255e-01])"
      ]
     },
     "execution_count": 91,
     "metadata": {},
     "output_type": "execute_result"
    }
   ],
   "source": [
    "#view the coefficients or weights\n",
    "model.coef_"
   ]
  },
  {
   "cell_type": "code",
   "execution_count": 92,
   "id": "d86e15ec",
   "metadata": {},
   "outputs": [
    {
     "data": {
      "text/plain": [
       "-51035.22972404407"
      ]
     },
     "execution_count": 92,
     "metadata": {},
     "output_type": "execute_result"
    }
   ],
   "source": [
    "# view the intercept or the bias\n",
    "model.intercept_"
   ]
  },
  {
   "cell_type": "code",
   "execution_count": 99,
   "id": "935f6fb1",
   "metadata": {},
   "outputs": [
    {
     "data": {
      "text/plain": [
       "0.911269589226883"
      ]
     },
     "execution_count": 99,
     "metadata": {},
     "output_type": "execute_result"
    }
   ],
   "source": [
    "#evaluting the model\n",
    "from sklearn.metrics import r2_score\n",
    "r2_score(y_test,y_pred)"
   ]
  },
  {
   "cell_type": "code",
   "execution_count": null,
   "id": "32806f8c",
   "metadata": {},
   "outputs": [],
   "source": []
  },
  {
   "cell_type": "code",
   "execution_count": null,
   "id": "db2c10bf",
   "metadata": {},
   "outputs": [],
   "source": []
  }
 ],
 "metadata": {
  "kernelspec": {
   "display_name": "Python 3 (ipykernel)",
   "language": "python",
   "name": "python3"
  },
  "language_info": {
   "codemirror_mode": {
    "name": "ipython",
    "version": 3
   },
   "file_extension": ".py",
   "mimetype": "text/x-python",
   "name": "python",
   "nbconvert_exporter": "python",
   "pygments_lexer": "ipython3",
   "version": "3.9.13"
  }
 },
 "nbformat": 4,
 "nbformat_minor": 5
}
